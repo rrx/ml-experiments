{
 "cells": [
  {
   "cell_type": "code",
   "execution_count": 206,
   "metadata": {
    "collapsed": false
   },
   "outputs": [],
   "source": [
    "%matplotlib inline\n",
    "import pandas as pd\n",
    "import os\n",
    "import json\n",
    "from glob import glob\n",
    "import numpy as np\n",
    "np.set_printoptions(precision=4, linewidth=100)\n",
    "from matplotlib import pyplot as plt\n",
    "from scipy.misc import imresize"
   ]
  },
  {
   "cell_type": "code",
   "execution_count": 207,
   "metadata": {
    "collapsed": false
   },
   "outputs": [],
   "source": [
    "import csv\n",
    "from tqdm import tqdm\n",
    "from tqdm import tnrange, tqdm_notebook\n",
    "from keras.utils import np_utils\n",
    "source_size = (48,48)\n",
    "target_size = (224,224)\n",
    "cmap = plt.get_cmap('hot')\n",
    "\n",
    "# Data Labels Defined\n",
    "labels = ['Angry', 'Disgust', 'Fear', 'Happy', 'Sad', 'Surprise', 'Neutral']\n",
    "\n",
    "# Read in data in an efficient manner\n",
    "# We need to convert the black and white image data to an RGB image that the VGG16 model expects\n",
    "# We accomplish the color conversion with the use of a color map\n",
    "\n",
    "class DataReader:\n",
    "    def __init__(self, batch_size=1000):\n",
    "        self.X = None\n",
    "        self.Y = None\n",
    "        self.X_acc = []\n",
    "        self.Y_acc = []\n",
    "        self.batch_size = batch_size\n",
    "        \n",
    "    def append(self, X, Y):\n",
    "        self.X_acc.append(X)\n",
    "        self.Y_acc.append(Y)\n",
    "        if len(self.X_acc) >= self.batch_size:\n",
    "            self.consolidate()\n",
    "            \n",
    "    def consolidate(self):\n",
    "        if len(self.X_acc) > 0:\n",
    "            if self.X is None:\n",
    "                self.X = np.stack(self.X_acc)\n",
    "                self.Y = np.stack(self.Y_acc)\n",
    "            else:\n",
    "                self.X = np.concatenate((self.X, self.X_acc), axis=0)\n",
    "                self.Y = np.concatenate((self.Y, self.Y_acc), axis=0)\n",
    "            self.X_acc = []\n",
    "            self.Y_acc = []\n",
    "\n",
    "        self.X = np.stack(self.X)\n",
    "        self.Y = np.stack(self.Y)\n",
    "            \n",
    "def load_data(filename, dataset=None, batch_size=1000, limit=0):\n",
    "    assert dataset in ['Training', 'PublicTest', 'PrivateTest']\n",
    "    X_out = []\n",
    "    Y_out = []    \n",
    "    def append(X, Y):\n",
    "        X_out = np.stack(X_out, X)\n",
    "        Y_out = np.stack(Y_out, Y)\n",
    "        \n",
    "    data = DataReader(batch_size=batch_size)\n",
    "    \n",
    "    categories = set()\n",
    "    \n",
    "    with open(filename, 'rb') as csvfile:\n",
    "        reader = csv.reader(csvfile)\n",
    "        header = reader.next()\n",
    "        X_accumulate = []\n",
    "        Y_accumulate = []\n",
    "        usages = set()\n",
    "        i=0\n",
    "        for row in tqdm_notebook(reader):\n",
    "            emotion = int(row[0])\n",
    "            usage = row[2]\n",
    "            usages.add(usage)\n",
    "            categories.add(emotion)\n",
    "\n",
    "            if usage != dataset: continue\n",
    "            \n",
    "            i+=1\n",
    "            if limit != 0 and i > limit:\n",
    "                break\n",
    "                \n",
    "            image_data = imresize(pd.DataFrame(row[1].split(), dtype=int).values.reshape(*source_size),target_size)\n",
    "            image_data = np.delete(cmap(image_data), 3, 2)\n",
    "\n",
    "            data.append(image_data, emotion)\n",
    "            \n",
    "        # final bunch\n",
    "        data.consolidate()\n",
    "    \n",
    "    num_classes = len(categories)\n",
    "    # rearrange axes to fit the VGG model\n",
    "    # switch outputs to categorical\n",
    "    return np.swapaxes(data.X, 3, 1), np_utils.to_categorical(data.Y, num_classes)"
   ]
  },
  {
   "cell_type": "code",
   "execution_count": 208,
   "metadata": {
    "collapsed": true
   },
   "outputs": [],
   "source": [
    "from keras.preprocessing.image import ImageDataGenerator\n",
    "from keras.layers import Dense, GlobalAveragePooling2D, GlobalMaxPooling2D\n",
    "from keras.models import Model, load_model\n",
    "from keras import optimizers\n",
    "from keras.applications import vgg16\n",
    "\n",
    "nb_classes = len(labels)\n",
    "weights_file = \"weights.h5\"\n",
    "\n",
    "def create_default_model():\n",
    "    # build the model from scratch using VGG16 as a base\n",
    "    model_vgg16 = vgg16.VGG16(weights='imagenet', include_top=True)\n",
    "    #model_vgg16_conv.summary()\n",
    "    layer = model_vgg16.layers[-2].output\n",
    "    # create a new layer for generating predictions for this data set\n",
    "    predictions_layer = Dense(nb_classes, activation='softmax', name='predictions')(layer)\n",
    "    model = Model(input=model_vgg16.input, output=predictions_layer)\n",
    "    #model.summary()\n",
    "    return model\n",
    "\n",
    "def add_compiler(model, lr=0.001):\n",
    "    model.compile(optimizer=optimizers.Adam(lr=lr), loss='categorical_crossentropy', metrics=['accuracy'])\n",
    "\n",
    "def load_model_with_weights_if_available():\n",
    "    # if weights exists on disk, then load it\n",
    "    model = create_default_model()\n",
    "    if os.path.exists(weights_file):\n",
    "        model.load_weights(weights_file)\n",
    "        print(\"Model loaded from file %s\" % weights_file)\n",
    "    else:\n",
    "        print(\"Model built from scratch\")\n",
    "        \n",
    "    add_compiler(model)\n",
    "    return model\n",
    "\n",
    "def get_batches(i, o, gen=ImageDataGenerator(), batch_size=32, shuffle=True):\n",
    "    return gen.flow(i, o, batch_size=batch_size, shuffle=shuffle)"
   ]
  },
  {
   "cell_type": "code",
   "execution_count": 209,
   "metadata": {
    "collapsed": false
   },
   "outputs": [
    {
     "name": "stdout",
     "output_type": "stream",
     "text": [
      "Model loaded from file weights.h5\n"
     ]
    }
   ],
   "source": [
    "model = load_model_with_weights_if_available()"
   ]
  },
  {
   "cell_type": "code",
   "execution_count": 201,
   "metadata": {
    "collapsed": false
   },
   "outputs": [
    {
     "name": "stdout",
     "output_type": "stream",
     "text": [
      "997it [00:44, 22.59it/s]"
     ]
    }
   ],
   "source": [
    "# Load the training data set\n",
    "X, Y = load_data('fer2013/fer2013.csv', dataset='Training', batch_size=1000, limit=1000)"
   ]
  },
  {
   "cell_type": "code",
   "execution_count": 210,
   "metadata": {
    "collapsed": false
   },
   "outputs": [
    {
     "name": "stdout",
     "output_type": "stream",
     "text": [
      "Epoch 1/1\n",
      "256/256 [==============================] - 301s - loss: 12.8403 - acc: 0.1797 - val_loss: 14.1033 - val_acc: 0.1250\b\b\b\b\b\b\b\b\b\b\b\b\b\b\b\b\b\b\b\b\b\b\b\b\b\b\b\b\b\b\b\b\b\b\b\b\b\b\b\b\b\b\b\b\b\b\b\b\b\b\b\b\b\b\b\b\b\b\b\b\b\b\b\b\b\b\b\b\b\b\b\b\b\b\b\b\b\b\b\b\b\b\b\b\b\b\b\b\b\b\b\b\b\b\b\b\b\b\b\b\b\b\b\b\b\b\b\b\b\b\b\b\b\b\b\b\b\b\b\b\b\b\b\b\b\b\b\b\b\b\b\b\b\b\b\b\b\b\b\b\b\b\b\b\b\b\b\b\b\b\b\b\b\b\b\b\b\b\b\b\b\b\b\b\b\b\b\b\b\b\b\b\b\b\b\b\b\b\b\b\b\b\b\b\b\b\b\b\b\b\b\b\b\b\b\b\b\b\b\b\b\b\b\b\b\b\b\b\b\b\b\b\b\b\b\b\b\b\b\b\b\b\b\b\b\b\b\b\b\b\b\b\b\b\b\b\b\b\b\b\b\b\b\b\b\b\b\b\b\b\b\b\b\b\b\b\b\b\b\b\b\b\b\b\b\b\b\b\b\b\b\b\b\b\b\b\b\b\b\b\b\b\b\b\b\b\b\b\b\b\b\b\b\b\b\b\b\b\b\b\b\b\b\b\b\b\b\b\b\b\b\b\b\b\b\b\b\b\b\b\b\b\b\b\b\b\b\b\b\b\b\b\b\b\b\b\b\b\b\b\b\b\b\b\b\b\b\b\b\b\b\b\b\b\b\b\b\b\b\b\b\b\b\b\b\b\b\b\b\b\b\b\b\b\b\b\b\b\b\b\b\b\b\b\b\b\b\b\b\b\b\b\b\b\b\b\b\b\b\b\b\b\b\b\b\b\b\b\b\b\b\b\b\b\b\b\b\b\b\b\b\b\b\b\b\b\b\b\b\b\b\b\b\b\b\b\b\b\b\b\b\b\b\b\b\b\b\b\b\b\b\b\b\b\b\b\b\b\b\b\b\b\b\b\b\b\b\b\b\b\b\b\b\b\b\b\b\b\b\b\b\b\b\b\b\b\b\b\b\b\b\b\b\b\b\b\b\b\b\b\b\b\b\b\b\b\b\b\b\b\b\b\b\b\b\b\b\b\b\b\b\b\b\b\b\b\b\b\b\b\b\b\b\b\b\b\b\b\b\b\b\b\b\b\b\b\b\b\b\b\b\b\b\b\b\b\b\b\b\b\b\b\b\b\b\b\b\b\b\b\b\b\b\b\b\b\b\b\b\b\b\b\b\b\b\b\b\b\b\b\b\b\b\b\b\b\b\b\b\b\b\b\b\b\b\b\b\b\b\b\b\b\b\b\b\b\b\b\b\b\b\b\b\b\b\b\b\b\b\b\b\b\b\b\b\b\b\b\b\b\b\b\b\b\b\b\b\b\b\b\b\b\b\b\b\b\b\b\b\b\b\b\b\b\b\b\b\b\b\b\b\b\b\b\b\b\b\b\b\b\b\b\b\b\b\b\b\b\b\b\b\b\b\b\b\b\b\b\b\b\b\b\b\b\b\b\b\b\b\b\b\b\b\b\b\b\b\b\b\b\b\b\b\b\b\b\b\b\b\b\b\b\b\b\b\b\b\b\b\b\b\b\b\b\b\b\b\b\b\b\b\b\b\b\b\b\b\b\b\b\b\b\b\b\b\b\b\b\b\b\b\b\b\b\b\b\b\b\b\b\b\b\b\b\b\b\b\b\b\b\b\b\b\b\b\b\b\b\b\b\b\b\b\b\b\b\b\b\b\b\b\b\b\b\b\b\b\b\b\b\b\b\b\b\b\b\b\b\b\b\b\b\b\b\b\b\b\b\b\b\b\b\b\b\b\b\b\b\b\b\b\b\b\b\b\b\b\b\b\b\b\b\b\b\b\b\b\b\b\b\b\b\b\b\b\b\b\b\b\b\b\b\b\b\b\b\b\b\b\b\b\b\b\b\b\b\b\b\b\b\b\b\b\b\b\b\b\b\b\b\b\b\b\b\b\b\b\b\b\b\b\b\b\b\b\b\b\b\b\b\b\b\b\b\b\b\b\b\b\b\b\b\b\b\b\b\b\b\b\b\b\b\b\b\b\b\b\b\b\b\b\b\b\b\b\b\b\b\b\b\b\b\b\b\b\b\b\b\b\b\b\b\b\b\b\b\b\b\b\b\b\b\b\b\b\b\b\b\b\b\b\b\b\b\b\b\b\b\b\b\b\b\b\b\b\b\b\b\b\b\b\b\b\b\b\b\b\b\b\b\b\b\b\b\b\b\b\b\b\b\b\b\b\b\b\b\b\b\b\b\b\b\b\b\b\b\b\b\b\b\b\b\b\b\b\b\b\b\b\b\b\b\b\b\b\b\b\b\b\b\b\b\b\b\b\b\b\b\b\b\b\b\b\b\b\b\b\b\b\b\b\b\b\b\b\b\b\b\b\b\b\b\b\b\b\b\b\b\b\b\b\b\b\b\b\b\b\b\b\b\b\b\b\b\b\b\b\b\b\b\b\b\b\b\b\b\b\b\b\b\b\b\b\b\b\b\b\b\b\b\b\b\b\b\b\b\b\b\b\b\b\b\b\b\b\b\b\b\b\b\b\b\b\b\b\b\b\b\n"
     ]
    }
   ],
   "source": [
    "# MAIN TRAINING CYCLE\n",
    "# Fit the model, and then save the weights to disk\n",
    "nb_epoch = 1\n",
    "nb_sample = 256\n",
    "batch_size = 16\n",
    "batches = get_batches(X, Y, batch_size=batch_size)\n",
    "val_batches = get_batches(X_test, Y_test, batch_size=batch_size)\n",
    "for layer in model.layers: layer.trainable=True\n",
    "model.fit_generator(batches, \n",
    "                    samples_per_epoch=nb_sample, \n",
    "                    nb_epoch=nb_epoch, \n",
    "                    validation_data=val_batches, \n",
    "                    nb_val_samples=nb_sample/64, \n",
    "                    nb_worker=1)\n",
    "model.save_weights(weights_file)"
   ]
  },
  {
   "cell_type": "code",
   "execution_count": 203,
   "metadata": {
    "collapsed": true
   },
   "outputs": [],
   "source": [
    "# Load Testing data sets\n",
    "X_public, Y_public = load_data('fer2013/fer2013.csv', dataset='PublicTest', batch_size=100, limit=100)\n",
    "X_private, Y_private = load_data('fer2013/fer2013.csv', dataset='PrivateTest', batch_size=100, limit=100)"
   ]
  },
  {
   "cell_type": "code",
   "execution_count": 204,
   "metadata": {
    "collapsed": false
   },
   "outputs": [
    {
     "name": "stdout",
     "output_type": "stream",
     "text": [
      "31707it [00:20, 1567.76it/s]Public Test Loss: 1.8457, Accuracy: 0.3000\n",
      "Private Test Loss: 1.8087, Accuracy: 0.2800\n"
     ]
    }
   ],
   "source": [
    "# Check Accuracy of the test data sets\n",
    "loss, acc = model.evaluate(X_public, Y_public, verbose=0)\n",
    "print(\"Public Test Loss: %.4f, Accuracy: %.4f\" % (loss, acc))\n",
    "loss, acc = model.evaluate(X_private, Y_private, verbose=0)\n",
    "print(\"Private Test Loss: %.4f, Accuracy: %.4f\" % (loss, acc))"
   ]
  },
  {
   "cell_type": "code",
   "execution_count": 205,
   "metadata": {
    "collapsed": true
   },
   "outputs": [],
   "source": [
    "# predict private set results and save submission file to disk\n",
    "results = model.predict(X_private)\n",
    "values = np.argmax(results, axis=1)\n",
    "with open(\"submission_private.csv\", \"wb\") as fp:\n",
    "    for x in values:\n",
    "        fp.write(\"%d\\n\" % x)\n",
    "    fp.close()"
   ]
  },
  {
   "cell_type": "code",
   "execution_count": null,
   "metadata": {
    "collapsed": true
   },
   "outputs": [],
   "source": []
  }
 ],
 "metadata": {
  "kernelspec": {
   "display_name": "Python 2",
   "language": "python",
   "name": "python2"
  },
  "language_info": {
   "codemirror_mode": {
    "name": "ipython",
    "version": 2
   },
   "file_extension": ".py",
   "mimetype": "text/x-python",
   "name": "python",
   "nbconvert_exporter": "python",
   "pygments_lexer": "ipython2",
   "version": "2.7.13"
  },
  "widgets": {
   "state": {
    "008130c3ce1d4b8f9078faaa9460e82d": {
     "views": [
      {
       "cell_index": 6
      }
     ]
    },
    "0a983b7d3feb4e628f07a4da46b34f3b": {
     "views": [
      {
       "cell_index": 1
      }
     ]
    },
    "11dab73aad6e4009bb38a05488b01bbe": {
     "views": [
      {
       "cell_index": 1
      }
     ]
    },
    "51659d7ddc414bc8ba58fa4206324933": {
     "views": [
      {
       "cell_index": 1
      }
     ]
    },
    "571b65817d2d46829e20de0323a8f952": {
     "views": [
      {
       "cell_index": 1
      }
     ]
    },
    "d27df862870d47d8a6f3f1df85715b7d": {
     "views": [
      {
       "cell_index": 1
      }
     ]
    },
    "deb1dc7328774d8885a99632cea63a4c": {
     "views": [
      {
       "cell_index": 6
      }
     ]
    }
   },
   "version": "1.2.0"
  }
 },
 "nbformat": 4,
 "nbformat_minor": 2
}
