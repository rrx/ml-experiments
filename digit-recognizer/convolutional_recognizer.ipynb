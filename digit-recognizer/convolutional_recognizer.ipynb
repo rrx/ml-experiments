{
 "cells": [
  {
   "cell_type": "markdown",
   "metadata": {},
   "source": [
    "# Recognize MNIST Digit using Convolutional Network\n",
    "\n",
    "https://blog.keras.io/building-autoencoders-in-keras.html"
   ]
  },
  {
   "cell_type": "code",
   "execution_count": 1,
   "metadata": {
    "collapsed": false
   },
   "outputs": [
    {
     "name": "stderr",
     "output_type": "stream",
     "text": [
      "Using Theano backend.\n"
     ]
    },
    {
     "data": {
      "application/javascript": [
       "\n",
       "    IPython.OutputArea.prototype._should_scroll = function(lines) {\n",
       "        return false;\n",
       "    }\n",
       "    "
      ],
      "text/plain": [
       "<IPython.core.display.Javascript object>"
      ]
     },
     "metadata": {},
     "output_type": "display_data"
    },
    {
     "name": "stdout",
     "output_type": "stream",
     "text": [
      "autoscrolling long output is disabled\n",
      "____________________________________________________________________________________________________\n",
      "Layer (type)                     Output Shape          Param #     Connected to                     \n",
      "====================================================================================================\n",
      "reshape_1 (Reshape)              (None, 1, 28, 28)     0           reshape_input_1[0][0]            \n",
      "____________________________________________________________________________________________________\n",
      "convolution2d_1 (Convolution2D)  (None, 32, 28, 28)    320         reshape_1[0][0]                  \n",
      "____________________________________________________________________________________________________\n",
      "maxpooling2d_1 (MaxPooling2D)    (None, 32, 14, 14)    0           convolution2d_1[0][0]            \n",
      "____________________________________________________________________________________________________\n",
      "convolution2d_2 (Convolution2D)  (None, 32, 14, 14)    9248        maxpooling2d_1[0][0]             \n",
      "____________________________________________________________________________________________________\n",
      "maxpooling2d_2 (MaxPooling2D)    (None, 32, 7, 7)      0           convolution2d_2[0][0]            \n",
      "____________________________________________________________________________________________________\n",
      "flatten_1 (Flatten)              (None, 1568)          0           maxpooling2d_2[0][0]             \n",
      "____________________________________________________________________________________________________\n",
      "dense_1 (Dense)                  (None, 10)            15690       flatten_1[0][0]                  \n",
      "====================================================================================================\n",
      "Total params: 25258\n",
      "____________________________________________________________________________________________________\n"
     ]
    }
   ],
   "source": [
    "%matplotlib inline\n",
    "from keras.layers import Input, Dense, Conv2D, MaxPooling2D, UpSampling2D, Dropout, Flatten, Reshape\n",
    "from keras.models import Model, Sequential\n",
    "import numpy as np\n",
    "from keras.datasets import mnist\n",
    "from keras.utils.np_utils import to_categorical\n",
    "import utils;reload(utils)\n",
    "utils.disable_scrolling()\n",
    "\n",
    "# 32 dimensions encoded\n",
    "input_shape = (1, 28, 28)\n",
    "model = Sequential(name='encoder')\n",
    "model.add(Reshape((1,28,28), input_shape=(784,)))\n",
    "model.add(Conv2D(32, 3, 3, input_shape=input_shape, activation='relu', border_mode='same'))\n",
    "model.add(MaxPooling2D(pool_size=(2, 2), border_mode='same'))\n",
    "model.add(Conv2D(32, 3, 3, activation='relu', border_mode='same'))\n",
    "model.add(MaxPooling2D(pool_size=(2, 2), border_mode='same'))\n",
    "model.add(Flatten())\n",
    "model.add(Dense(10, activation='softmax'))\n",
    "model.summary()"
   ]
  },
  {
   "cell_type": "code",
   "execution_count": 2,
   "metadata": {
    "collapsed": false
   },
   "outputs": [],
   "source": [
    "reload(utils)\n",
    "data = utils.MNIST()\n",
    "batches = []\n",
    "batches = data.get_training_batches(batch_size=100)\n",
    "val_batches = data.get_test_batches(batch_size=100)"
   ]
  },
  {
   "cell_type": "code",
   "execution_count": 4,
   "metadata": {
    "collapsed": false
   },
   "outputs": [
    {
     "name": "stdout",
     "output_type": "stream",
     "text": [
      "Epoch 1/50\n",
      "104s - loss: 0.3769 - acc: 0.8866 - val_loss: 0.2738 - val_acc: 0.9400\n",
      "Epoch 2/50\n",
      "105s - loss: 0.1775 - acc: 0.9461 - val_loss: 0.1231 - val_acc: 0.9600\n",
      "Epoch 3/50\n",
      "105s - loss: 0.1351 - acc: 0.9590 - val_loss: 0.2087 - val_acc: 0.9200\n",
      "Epoch 4/50\n",
      "105s - loss: 0.1164 - acc: 0.9648 - val_loss: 0.0730 - val_acc: 0.9800\n",
      "Epoch 5/50\n",
      "137s - loss: 0.1053 - acc: 0.9677 - val_loss: 0.1068 - val_acc: 0.9700\n",
      "Epoch 6/50\n",
      "139s - loss: 0.0974 - acc: 0.9702 - val_loss: 0.1686 - val_acc: 0.9100\n",
      "Epoch 7/50\n",
      "171s - loss: 0.0912 - acc: 0.9722 - val_loss: 0.1168 - val_acc: 0.9600\n",
      "Epoch 8/50\n",
      "178s - loss: 0.0860 - acc: 0.9738 - val_loss: 0.0887 - val_acc: 0.9700\n",
      "Epoch 9/50\n",
      "179s - loss: 0.0817 - acc: 0.9750 - val_loss: 0.0835 - val_acc: 0.9800\n",
      "Epoch 10/50\n",
      "208s - loss: 0.0778 - acc: 0.9762 - val_loss: 0.1025 - val_acc: 0.9600\n",
      "Epoch 11/50\n",
      "303s - loss: 0.0744 - acc: 0.9771 - val_loss: 0.0506 - val_acc: 0.9800\n",
      "Epoch 12/50\n",
      "250s - loss: 0.0713 - acc: 0.9781 - val_loss: 0.1656 - val_acc: 0.9500\n",
      "Epoch 13/50\n",
      "177s - loss: 0.0686 - acc: 0.9789 - val_loss: 0.1527 - val_acc: 0.9600\n",
      "Epoch 14/50\n",
      "202s - loss: 0.0660 - acc: 0.9797 - val_loss: 0.0237 - val_acc: 0.9900\n",
      "Epoch 15/50\n",
      "257s - loss: 0.0637 - acc: 0.9805 - val_loss: 0.0649 - val_acc: 0.9800\n",
      "Epoch 16/50\n",
      "259s - loss: 0.0616 - acc: 0.9812 - val_loss: 0.1363 - val_acc: 0.9500\n",
      "Epoch 17/50\n",
      "202s - loss: 0.0595 - acc: 0.9817 - val_loss: 0.0641 - val_acc: 0.9700\n",
      "Epoch 18/50\n",
      "247s - loss: 0.0576 - acc: 0.9823 - val_loss: 0.0360 - val_acc: 0.9900\n",
      "Epoch 19/50\n",
      "216s - loss: 0.0558 - acc: 0.9829 - val_loss: 0.0407 - val_acc: 0.9800\n",
      "Epoch 20/50\n",
      "140s - loss: 0.0541 - acc: 0.9835 - val_loss: 0.0464 - val_acc: 0.9800\n",
      "Epoch 21/50\n",
      "141s - loss: 0.0525 - acc: 0.9840 - val_loss: 0.0305 - val_acc: 0.9900\n",
      "Epoch 22/50\n",
      "143s - loss: 0.0510 - acc: 0.9846 - val_loss: 0.0311 - val_acc: 0.9900\n",
      "Epoch 23/50\n",
      "141s - loss: 0.0495 - acc: 0.9851 - val_loss: 0.0510 - val_acc: 0.9700\n",
      "Epoch 24/50\n",
      "141s - loss: 0.0481 - acc: 0.9857 - val_loss: 0.0432 - val_acc: 0.9900\n",
      "Epoch 25/50\n",
      "141s - loss: 0.0468 - acc: 0.9862 - val_loss: 0.0792 - val_acc: 0.9700\n",
      "Epoch 26/50\n",
      "150s - loss: 0.0455 - acc: 0.9867 - val_loss: 0.1384 - val_acc: 0.9700\n",
      "Epoch 27/50\n",
      "149s - loss: 0.0443 - acc: 0.9871 - val_loss: 0.1848 - val_acc: 0.9500\n",
      "Epoch 28/50\n",
      "153s - loss: 0.0431 - acc: 0.9876 - val_loss: 0.0883 - val_acc: 0.9700\n",
      "Epoch 29/50\n",
      "148s - loss: 0.0419 - acc: 0.9880 - val_loss: 0.1164 - val_acc: 0.9600\n",
      "Epoch 30/50\n",
      "127s - loss: 0.0408 - acc: 0.9884 - val_loss: 0.1613 - val_acc: 0.9700\n",
      "Epoch 31/50\n",
      "191s - loss: 0.0398 - acc: 0.9888 - val_loss: 0.1546 - val_acc: 0.9600\n",
      "Epoch 32/50\n",
      "117s - loss: 0.0387 - acc: 0.9891 - val_loss: 0.0976 - val_acc: 0.9700\n",
      "Epoch 33/50\n",
      "111s - loss: 0.0377 - acc: 0.9894 - val_loss: 0.0819 - val_acc: 0.9800\n",
      "Epoch 34/50\n",
      "108s - loss: 0.0367 - acc: 0.9898 - val_loss: 0.0164 - val_acc: 0.9900\n",
      "Epoch 35/50\n",
      "112s - loss: 0.0357 - acc: 0.9902 - val_loss: 0.0594 - val_acc: 0.9600\n",
      "Epoch 36/50\n",
      "109s - loss: 0.0348 - acc: 0.9907 - val_loss: 0.1072 - val_acc: 0.9500\n",
      "Epoch 37/50\n",
      "109s - loss: 0.0339 - acc: 0.9910 - val_loss: 0.0880 - val_acc: 0.9700\n",
      "Epoch 38/50\n",
      "108s - loss: 0.0330 - acc: 0.9914 - val_loss: 0.1397 - val_acc: 0.9600\n",
      "Epoch 39/50\n",
      "114s - loss: 0.0321 - acc: 0.9916 - val_loss: 0.0669 - val_acc: 0.9700\n",
      "Epoch 40/50\n",
      "159s - loss: 0.0313 - acc: 0.9918 - val_loss: 0.0374 - val_acc: 0.9700\n",
      "Epoch 41/50\n",
      "116s - loss: 0.0304 - acc: 0.9921 - val_loss: 0.0517 - val_acc: 0.9800\n",
      "Epoch 42/50\n",
      "144s - loss: 0.0296 - acc: 0.9923 - val_loss: 0.0695 - val_acc: 0.9800\n",
      "Epoch 43/50\n",
      "127s - loss: 0.0288 - acc: 0.9927 - val_loss: 0.0231 - val_acc: 1.0000\n",
      "Epoch 44/50\n",
      "107s - loss: 0.0281 - acc: 0.9929 - val_loss: 0.0828 - val_acc: 0.9700\n",
      "Epoch 45/50\n",
      "109s - loss: 0.0273 - acc: 0.9933 - val_loss: 0.1706 - val_acc: 0.9700\n",
      "Epoch 46/50\n",
      "109s - loss: 0.0266 - acc: 0.9936 - val_loss: 0.1938 - val_acc: 0.9600\n",
      "Epoch 47/50\n",
      "110s - loss: 0.0259 - acc: 0.9938 - val_loss: 0.0073 - val_acc: 1.0000\n",
      "Epoch 48/50\n",
      "109s - loss: 0.0252 - acc: 0.9941 - val_loss: 0.2055 - val_acc: 0.9600\n",
      "Epoch 49/50\n",
      "110s - loss: 0.0245 - acc: 0.9943 - val_loss: 0.0365 - val_acc: 0.9800\n",
      "Epoch 50/50\n",
      "110s - loss: 0.0238 - acc: 0.9945 - val_loss: 0.1532 - val_acc: 0.9700\n"
     ]
    },
    {
     "data": {
      "text/plain": [
       "<keras.callbacks.History at 0x7fe364d86bd0>"
      ]
     },
     "execution_count": 4,
     "metadata": {},
     "output_type": "execute_result"
    }
   ],
   "source": [
    "# Fit data with regular training, as well as noisy training sets\n",
    "N = batches.N\n",
    "#N = 100\n",
    "epochs = 50\n",
    "model.compile(optimizer='adadelta', loss='categorical_crossentropy', metrics=['accuracy'])\n",
    "model.fit_generator(batches, N, epochs, verbose=2, validation_data=val_batches, nb_val_samples=100)"
   ]
  },
  {
   "cell_type": "code",
   "execution_count": 6,
   "metadata": {
    "collapsed": false
   },
   "outputs": [
    {
     "name": "stdout",
     "output_type": "stream",
     "text": [
      "Model saved: models/convolutional_recognizer.model.json\n",
      "Weights saved: models/convolutional_recognizer.weights.h5\n"
     ]
    }
   ],
   "source": [
    "reload(utils)\n",
    "utils.save_model(model, \"models/convolutional_recognizer\")"
   ]
  },
  {
   "cell_type": "code",
   "execution_count": 9,
   "metadata": {
    "collapsed": false
   },
   "outputs": [
    {
     "name": "stdout",
     "output_type": "stream",
     "text": [
      "Test Loss: 0.11842, Accuracy: 0.96935\n"
     ]
    }
   ],
   "source": [
    "loss, acc = model.test_on_batch(val_batches.x, val_batches.y)\n",
    "print(\"Test Loss: %.5f, Accuracy: %.5f\" % (loss, acc))"
   ]
  },
  {
   "cell_type": "code",
   "execution_count": null,
   "metadata": {
    "collapsed": true
   },
   "outputs": [],
   "source": []
  }
 ],
 "metadata": {
  "kernelspec": {
   "display_name": "Python 2",
   "language": "python",
   "name": "python2"
  },
  "language_info": {
   "codemirror_mode": {
    "name": "ipython",
    "version": 2
   },
   "file_extension": ".py",
   "mimetype": "text/x-python",
   "name": "python",
   "nbconvert_exporter": "python",
   "pygments_lexer": "ipython2",
   "version": "2.7.13"
  }
 },
 "nbformat": 4,
 "nbformat_minor": 2
}
