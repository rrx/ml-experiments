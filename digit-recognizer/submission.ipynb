{
 "cells": [
  {
   "cell_type": "markdown",
   "metadata": {},
   "source": [
    "# Recognize MNIST Digit using Convolutional Network\n",
    "\n",
    "https://www.kaggle.com/c/digit-recognizer"
   ]
  },
  {
   "cell_type": "code",
   "execution_count": 12,
   "metadata": {
    "collapsed": false
   },
   "outputs": [
    {
     "data": {
      "application/javascript": [
       "\n",
       "    IPython.OutputArea.prototype._should_scroll = function(lines) {\n",
       "        return false;\n",
       "    }\n",
       "    "
      ],
      "text/plain": [
       "<IPython.core.display.Javascript object>"
      ]
     },
     "metadata": {},
     "output_type": "display_data"
    },
    {
     "name": "stdout",
     "output_type": "stream",
     "text": [
      "autoscrolling long output is disabled\n"
     ]
    }
   ],
   "source": [
    "%matplotlib inline\n",
    "import utils\n",
    "reload(utils)\n",
    "from keras.layers import Input, Dense, Conv2D, MaxPooling2D, UpSampling2D, Dropout, Flatten, Reshape\n",
    "from keras.models import Model, Sequential\n",
    "import numpy as np\n",
    "from keras.datasets import mnist\n",
    "from keras.utils.np_utils import to_categorical\n",
    "import utils;reload(utils)\n",
    "utils.disable_scrolling()"
   ]
  },
  {
   "cell_type": "code",
   "execution_count": 7,
   "metadata": {
    "collapsed": false
   },
   "outputs": [
    {
     "name": "stdout",
     "output_type": "stream",
     "text": [
      "((42000, 784), (28000, 784))\n"
     ]
    },
    {
     "data": {
      "image/png": "[encoded data removed]",
      "text/plain": [
       "<matplotlib.figure.Figure at 0x7fb326378650>"
      ]
     },
     "metadata": {},
     "output_type": "display_data"
    }
   ],
   "source": [
    "# regular MNIST dataset\n",
    "data = utils.MNIST()\n",
    "(X,Y) = data.get_ordered_sample()\n",
    "utils.plot_array(X, titles=Y, cmap=None, limit=10)\n",
    "mnist_train_batches = data.get_training_batches(batch_size=100)\n",
    "mnist_test_batches = data.get_test_batches(batch_size=100)\n",
    "\n",
    "# Competition data set\n",
    "data = utils.MNIST_CSV()\n",
    "X_train, Y_train = data.load_train()\n",
    "competition_train_batches = utils.BatchIterator(X_train, utils.to_categorical(Y_train))\n",
    "X_test = data.load_test()\n",
    "print(X_train.shape, X_test.shape)"
   ]
  },
  {
   "cell_type": "code",
   "execution_count": 114,
   "metadata": {
    "collapsed": false
   },
   "outputs": [
    {
     "name": "stdout",
     "output_type": "stream",
     "text": [
      "____________________________________________________________________________________________________\n",
      "Layer (type)                     Output Shape          Param #     Connected to                     \n",
      "====================================================================================================\n",
      "reshape_20 (Reshape)             (None, 1, 28, 28)     0           reshape_input_20[0][0]           \n",
      "____________________________________________________________________________________________________\n",
      "convolution2d_49 (Convolution2D) (None, 32, 28, 28)    320         reshape_20[0][0]                 \n",
      "____________________________________________________________________________________________________\n",
      "maxpooling2d_39 (MaxPooling2D)   (None, 32, 14, 14)    0           convolution2d_49[0][0]           \n",
      "____________________________________________________________________________________________________\n",
      "convolution2d_50 (Convolution2D) (None, 32, 14, 14)    9248        maxpooling2d_39[0][0]            \n",
      "____________________________________________________________________________________________________\n",
      "dropout_22 (Dropout)             (None, 32, 14, 14)    0           convolution2d_50[0][0]           \n",
      "____________________________________________________________________________________________________\n",
      "convolution2d_51 (Convolution2D) (None, 64, 14, 14)    18496       dropout_22[0][0]                 \n",
      "____________________________________________________________________________________________________\n",
      "maxpooling2d_40 (MaxPooling2D)   (None, 64, 7, 7)      0           convolution2d_51[0][0]           \n",
      "____________________________________________________________________________________________________\n",
      "convolution2d_52 (Convolution2D) (None, 64, 7, 7)      36928       maxpooling2d_40[0][0]            \n",
      "____________________________________________________________________________________________________\n",
      "dropout_23 (Dropout)             (None, 64, 7, 7)      0           convolution2d_52[0][0]           \n",
      "____________________________________________________________________________________________________\n",
      "flatten_20 (Flatten)             (None, 3136)          0           dropout_23[0][0]                 \n",
      "____________________________________________________________________________________________________\n",
      "dense_25 (Dense)                 (None, 10)            31370       flatten_20[0][0]                 \n",
      "====================================================================================================\n",
      "Total params: 96362\n",
      "____________________________________________________________________________________________________\n"
     ]
    }
   ],
   "source": [
    "# 32 dimensions encoded\n",
    "input_shape = (1, 28, 28)\n",
    "model = Sequential(name='encoder')\n",
    "model.add(Reshape(input_shape, input_shape=(784,)))\n",
    "model.add(Conv2D(32, 3, 3, activation='relu', border_mode='same'))\n",
    "model.add(MaxPooling2D(pool_size=(2, 2), border_mode='same'))\n",
    "model.add(Conv2D(32, 3, 3, activation='relu', border_mode='same'))\n",
    "model.add(Dropout(0.25))\n",
    "#model.add(MaxPooling2D(pool_size=(2, 2), border_mode='same'))\n",
    "model.add(Conv2D(64, 3, 3, activation='relu', border_mode='same'))\n",
    "model.add(MaxPooling2D(pool_size=(2, 2), border_mode='same'))\n",
    "model.add(Conv2D(64, 3, 3, activation='relu', border_mode='same'))\n",
    "model.add(Dropout(0.25))\n",
    "model.add(Flatten())\n",
    "#model.add(Dense(128, activation='relu'))\n",
    "model.add(Dense(10, activation='softmax'))\n",
    "model.summary()\n",
    "#model.load_weights('models/convolutional_recognizer_2.weights.h5')\n",
    "model.compile(optimizer='adadelta', loss='binary_crossentropy', metrics=['accuracy'])"
   ]
  },
  {
   "cell_type": "code",
   "execution_count": 115,
   "metadata": {
    "collapsed": false
   },
   "outputs": [
    {
     "name": "stdout",
     "output_type": "stream",
     "text": [
      "Epoch 1/10\n",
      "2s - loss: 0.3248 - acc: 0.9000 - val_loss: 0.3237 - val_acc: 0.9000\n",
      "Epoch 2/10\n",
      "2s - loss: 0.3222 - acc: 0.9000 - val_loss: 0.3199 - val_acc: 0.9000\n",
      "Epoch 3/10\n",
      "2s - loss: 0.3176 - acc: 0.9000 - val_loss: 0.3160 - val_acc: 0.9000\n",
      "Epoch 4/10\n",
      "2s - loss: 0.3058 - acc: 0.9000 - val_loss: 0.2846 - val_acc: 0.9000\n",
      "Epoch 5/10\n",
      "2s - loss: 0.2668 - acc: 0.9035 - val_loss: 0.2254 - val_acc: 0.9140\n",
      "Epoch 6/10\n",
      "2s - loss: 0.2165 - acc: 0.9190 - val_loss: 0.1742 - val_acc: 0.9320\n",
      "Epoch 7/10\n",
      "2s - loss: 0.1636 - acc: 0.9408 - val_loss: 0.1688 - val_acc: 0.9350\n",
      "Epoch 8/10\n",
      "2s - loss: 0.1566 - acc: 0.9408 - val_loss: 0.1169 - val_acc: 0.9540\n",
      "Epoch 9/10\n",
      "2s - loss: 0.1278 - acc: 0.9533 - val_loss: 0.0965 - val_acc: 0.9630\n",
      "Epoch 10/10\n",
      "2s - loss: 0.1206 - acc: 0.9562 - val_loss: 0.0873 - val_acc: 0.9750\n"
     ]
    }
   ],
   "source": [
    "# Train on the original MNIST data set\n",
    "N = mnist_train_batches.N\n",
    "N = 1000\n",
    "model.fit_generator(mnist_train_batches, N, 10, verbose=2, validation_data=mnist_test_batches, nb_val_samples=min([100,N]));"
   ]
  },
  {
   "cell_type": "code",
   "execution_count": 116,
   "metadata": {
    "collapsed": false
   },
   "outputs": [
    {
     "name": "stdout",
     "output_type": "stream",
     "text": [
      "Test Loss: 0.08269, Accuracy: 0.97147\n"
     ]
    }
   ],
   "source": [
    "# Test how we did\n",
    "# Pretty accurate\n",
    "N = 10000\n",
    "loss, acc = model.test_on_batch(mnist_test_batches.x[:N], mnist_test_batches.y[:N])\n",
    "print(\"Test Loss: %.5f, Accuracy: %.5f\" % (loss, acc))"
   ]
  },
  {
   "cell_type": "code",
   "execution_count": 117,
   "metadata": {
    "collapsed": false
   },
   "outputs": [
    {
     "name": "stdout",
     "output_type": "stream",
     "text": [
      "Test Loss: 0.08516, Accuracy: 0.96993\n"
     ]
    }
   ],
   "source": [
    "# Test current model with data for the competition\n",
    "# Pretty accurate\n",
    "N = 10000\n",
    "loss, acc = model.test_on_batch(X_train[:N], utils.to_categorical(Y_train[:N]))\n",
    "print(\"Test Loss: %.5f, Accuracy: %.5f\" % (loss, acc))"
   ]
  },
  {
   "cell_type": "code",
   "execution_count": 118,
   "metadata": {
    "collapsed": false
   },
   "outputs": [
    {
     "name": "stdout",
     "output_type": "stream",
     "text": [
      "Epoch 1/1\n",
      "85s - loss: 0.0336 - acc: 0.9884 - val_loss: 0.0419 - val_acc: 0.9870\n"
     ]
    }
   ],
   "source": [
    "# Train on Competition Data\n",
    "model.fit_generator(competition_train_batches, competition_train_batches.N, 1, verbose=2,\n",
    "                    validation_data=mnist_test_batches, nb_val_samples=100);"
   ]
  },
  {
   "cell_type": "code",
   "execution_count": 119,
   "metadata": {
    "collapsed": false
   },
   "outputs": [
    {
     "name": "stdout",
     "output_type": "stream",
     "text": [
      "(40, 10)\n"
     ]
    },
    {
     "data": {
      "image/png": "[encoded data removed]",
      "text/plain": [
       "<matplotlib.figure.Figure at 0x7fb315e23a90>"
      ]
     },
     "metadata": {},
     "output_type": "display_data"
    }
   ],
   "source": [
    "# Let's inspect some predictions\n",
    "N=40\n",
    "Y_test = model.predict(X_test[:N])\n",
    "print(Y_test.shape)\n",
    "Y_test_cat = np.argmax(Y_test, axis=1)\n",
    "utils.plot_array(X_test, Y_test_cat, limit=N)"
   ]
  },
  {
   "cell_type": "code",
   "execution_count": 120,
   "metadata": {
    "collapsed": false
   },
   "outputs": [
    {
     "name": "stdout",
     "output_type": "stream",
     "text": [
      "(42000, 784)\n",
      "((378000, 784), (378000,))\n"
     ]
    }
   ],
   "source": [
    "# Generate a new training set that has shifted samples.  Shift them all around\n",
    "from scipy.ndimage.interpolation import shift\n",
    "N = 10\n",
    "X_reshaped = X_train.reshape(X_train.shape[0],28,28)\n",
    "print(X_train.shape)\n",
    "X2_train = np.concatenate([\n",
    "    X_reshaped,\n",
    "    shift(X_reshaped, (0,-4,4)), #TL\n",
    "    shift(X_reshaped, (0,+4,+4)),#TR\n",
    "    shift(X_reshaped, (0,-4,-4)),#BL\n",
    "    shift(X_reshaped, (0,-4,+4)),#BR\n",
    "    shift(X_reshaped, (0,0,-4)), #L\n",
    "    shift(X_reshaped, (0,0,+4)), #R\n",
    "    shift(X_reshaped, (0,+4,0)), #T\n",
    "    shift(X_reshaped, (0,-4,0)), #B\n",
    "])\n",
    "Y2_train = np.concatenate([Y_train for i in range(0,9)])\n",
    "X2_train = X2_train.reshape(X2_train.shape[0], 784)\n",
    "print(X2_train.shape, Y2_train.shape)\n",
    "batches = utils.BatchIterator(X2_train, utils.to_categorical(Y2_train), batch_size=1000)"
   ]
  },
  {
   "cell_type": "code",
   "execution_count": 121,
   "metadata": {
    "collapsed": false
   },
   "outputs": [
    {
     "name": "stdout",
     "output_type": "stream",
     "text": [
      "Epoch 1/1\n",
      "783s - loss: 0.0820 - acc: 0.9710 - val_loss: 0.0368 - val_acc: 0.9870\n"
     ]
    }
   ],
   "source": [
    "# Train using shifted samples\n",
    "model.fit_generator(batches, batches.N, 1, verbose=2, validation_data=batches, nb_val_samples=1000);"
   ]
  },
  {
   "cell_type": "code",
   "execution_count": 122,
   "metadata": {
    "collapsed": false
   },
   "outputs": [
    {
     "name": "stdout",
     "output_type": "stream",
     "text": [
      "Test Loss: 0.15905, Accuracy: 0.94086\n"
     ]
    }
   ],
   "source": [
    "loss, acc = model.test_on_batch(mnist_test_batches.x, mnist_test_batches.y)\n",
    "print(\"Test Loss: %.5f, Accuracy: %.5f\" % (loss, acc))"
   ]
  },
  {
   "cell_type": "code",
   "execution_count": 167,
   "metadata": {
    "collapsed": false
   },
   "outputs": [],
   "source": [
    "# create submission for the competition\n",
    "Y_test = recognizer.predict(X_test)\n",
    "Y_test_cat = np.argmax(Y_test, axis=1)\n",
    "with open(\"submission.csv\", \"w\") as fp:\n",
    "    fp.write(\"ImageId,Label\\n\")\n",
    "    for i in range(0,len(Y_test_cat)):\n",
    "        fp.write(\"%s,%s\\n\" % (i+1, Y_test_cat[i]))\n",
    "    fp.close()"
   ]
  },
  {
   "cell_type": "code",
   "execution_count": 124,
   "metadata": {
    "collapsed": false
   },
   "outputs": [
    {
     "name": "stdout",
     "output_type": "stream",
     "text": [
      "Model saved: models/convolutional_recognizer_4.model.json\n",
      "Weights saved: models/convolutional_recognizer_4.weights.h5\n"
     ]
    }
   ],
   "source": [
    "utils.save_model(model, \"models/convolutional_recognizer_4\")"
   ]
  },
  {
   "cell_type": "code",
   "execution_count": null,
   "metadata": {
    "collapsed": true
   },
   "outputs": [],
   "source": []
  }
 ],
 "metadata": {
  "kernelspec": {
   "display_name": "Python 2",
   "language": "python",
   "name": "python2"
  },
  "language_info": {
   "codemirror_mode": {
    "name": "ipython",
    "version": 2
   },
   "file_extension": ".py",
   "mimetype": "text/x-python",
   "name": "python",
   "nbconvert_exporter": "python",
   "pygments_lexer": "ipython2",
   "version": "2.7.13"
  }
 },
 "nbformat": 4,
 "nbformat_minor": 2
}
