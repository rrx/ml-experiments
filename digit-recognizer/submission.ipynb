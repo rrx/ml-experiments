{
 "cells": [
  {
   "cell_type": "markdown",
   "metadata": {},
   "source": [
    "# Recognize MNIST Digit using Convolutional Network\n",
    "\n",
    "https://www.kaggle.com/c/digit-recognizer"
   ]
  },
  {
   "cell_type": "code",
   "execution_count": 148,
   "metadata": {
    "collapsed": false
   },
   "outputs": [
    {
     "data": {
      "application/javascript": [
       "\n",
       "    IPython.OutputArea.prototype._should_scroll = function(lines) {\n",
       "        return false;\n",
       "    }\n",
       "    "
      ],
      "text/plain": [
       "<IPython.core.display.Javascript object>"
      ]
     },
     "metadata": {},
     "output_type": "display_data"
    },
    {
     "name": "stdout",
     "output_type": "stream",
     "text": [
      "autoscrolling long output is disabled\n",
      "____________________________________________________________________________________________________\n",
      "Layer (type)                     Output Shape          Param #     Connected to                     \n",
      "====================================================================================================\n",
      "reshape_7 (Reshape)              (None, 1, 28, 28)     0           reshape_input_12[0][0]           \n",
      "____________________________________________________________________________________________________\n",
      "convolution2d_13 (Convolution2D) (None, 32, 28, 28)    320         reshape_7[0][0]                  \n",
      "____________________________________________________________________________________________________\n",
      "maxpooling2d_13 (MaxPooling2D)   (None, 32, 14, 14)    0           convolution2d_13[0][0]           \n",
      "____________________________________________________________________________________________________\n",
      "convolution2d_14 (Convolution2D) (None, 32, 14, 14)    9248        maxpooling2d_13[0][0]            \n",
      "____________________________________________________________________________________________________\n",
      "maxpooling2d_14 (MaxPooling2D)   (None, 32, 7, 7)      0           convolution2d_14[0][0]           \n",
      "____________________________________________________________________________________________________\n",
      "dropout_6 (Dropout)              (None, 32, 7, 7)      0           maxpooling2d_14[0][0]            \n",
      "____________________________________________________________________________________________________\n",
      "flatten_7 (Flatten)              (None, 1568)          0           dropout_6[0][0]                  \n",
      "____________________________________________________________________________________________________\n",
      "dense_7 (Dense)                  (None, 10)            15690       flatten_7[0][0]                  \n",
      "====================================================================================================\n",
      "Total params: 25258\n",
      "____________________________________________________________________________________________________\n"
     ]
    }
   ],
   "source": [
    "%matplotlib inline\n",
    "import utils\n",
    "reload(utils)\n",
    "from keras.layers import Input, Dense, Conv2D, MaxPooling2D, UpSampling2D, Dropout, Flatten, Reshape\n",
    "from keras.models import Model, Sequential\n",
    "import numpy as np\n",
    "from keras.datasets import mnist\n",
    "from keras.utils.np_utils import to_categorical\n",
    "import utils;reload(utils)\n",
    "utils.disable_scrolling()\n",
    "\n",
    "# 32 dimensions encoded\n",
    "input_shape = (1, 28, 28)\n",
    "model = Sequential(name='encoder')\n",
    "model.add(Reshape(input_shape, input_shape=(784,)))\n",
    "model.add(Conv2D(32, 3, 3, activation='relu', border_mode='same'))\n",
    "model.add(MaxPooling2D(pool_size=(2, 2), border_mode='same'))\n",
    "model.add(Conv2D(32, 3, 3, activation='relu', border_mode='same'))\n",
    "model.add(MaxPooling2D(pool_size=(2, 2), border_mode='same'))\n",
    "model.add(Dropout(0.25))\n",
    "model.add(Flatten())\n",
    "model.add(Dense(10, activation='softmax'))\n",
    "model.summary()\n",
    "#model.load_weights('models/convolutional_recognizer_2.weights.h5')\n",
    "model.compile(optimizer='adadelta', loss='binary_crossentropy', metrics=['accuracy'])"
   ]
  },
  {
   "cell_type": "code",
   "execution_count": 161,
   "metadata": {
    "collapsed": false
   },
   "outputs": [
    {
     "name": "stdout",
     "output_type": "stream",
     "text": [
      "((42000, 784), (28000, 784))\n"
     ]
    },
    {
     "data": {
      "image/png": "[encoded data removed]",
      "text/plain": [
       "<matplotlib.figure.Figure at 0x7f6120b00a50>"
      ]
     },
     "metadata": {},
     "output_type": "display_data"
    }
   ],
   "source": [
    "# regular MNIST dataset\n",
    "data = utils.MNIST()\n",
    "(X,Y) = data.get_ordered_sample()\n",
    "utils.plot_array(X, titles=Y, cmap=None, limit=10)\n",
    "mnist_train_batches = data.get_training_batches(batch_size=100)\n",
    "mnist_test_batches = data.get_test_batches(batch_size=100)\n",
    "\n",
    "# Competition data set\n",
    "data = utils.MNIST_CSV()\n",
    "X_train, Y_train = data.load_train()\n",
    "competition_train_batches = utils.BatchIterator(X_train, utils.to_categorical(Y_train))\n",
    "X_test = data.load_test()\n",
    "print(X_train.shape, X_test.shape)"
   ]
  },
  {
   "cell_type": "code",
   "execution_count": 157,
   "metadata": {
    "collapsed": false
   },
   "outputs": [
    {
     "name": "stdout",
     "output_type": "stream",
     "text": [
      "Epoch 1/1\n",
      "117s - loss: 0.0366 - acc: 0.9875 - val_loss: 0.0248 - val_acc: 0.9907\n"
     ]
    }
   ],
   "source": [
    "# Train on the original MNIST data set\n",
    "model.fit_generator(mnist_train_batches, mnist_train_batches.N, 1, verbose=2, validation_data=mnist_test_batches, nb_val_samples=1000);"
   ]
  },
  {
   "cell_type": "code",
   "execution_count": 158,
   "metadata": {
    "collapsed": false
   },
   "outputs": [
    {
     "name": "stdout",
     "output_type": "stream",
     "text": [
      "Test Loss: 0.01748, Accuracy: 0.99423\n"
     ]
    }
   ],
   "source": [
    "# Test how we did\n",
    "# Pretty accurate\n",
    "N = 10000\n",
    "loss, acc = model.test_on_batch(mnist_test_batches.x[:N], mnist_test_batches.y[:N])\n",
    "print(\"Test Loss: %.5f, Accuracy: %.5f\" % (loss, acc))"
   ]
  },
  {
   "cell_type": "code",
   "execution_count": 159,
   "metadata": {
    "collapsed": false
   },
   "outputs": [
    {
     "name": "stdout",
     "output_type": "stream",
     "text": [
      "Test Loss: 0.01800, Accuracy: 0.99433\n"
     ]
    }
   ],
   "source": [
    "# Test current model with data for the competition\n",
    "# Pretty accurate\n",
    "N = 10000\n",
    "loss, acc = model.test_on_batch(X_train[:N], utils.to_categorical(Y_train[:N]))\n",
    "print(\"Test Loss: %.5f, Accuracy: %.5f\" % (loss, acc))"
   ]
  },
  {
   "cell_type": "code",
   "execution_count": 162,
   "metadata": {
    "collapsed": false
   },
   "outputs": [
    {
     "name": "stdout",
     "output_type": "stream",
     "text": [
      "Epoch 1/1\n",
      "37s - loss: 0.0190 - acc: 0.9936 - val_loss: 0.0252 - val_acc: 0.9900\n"
     ]
    }
   ],
   "source": [
    "# Train on Competition Data\n",
    "model.fit_generator(competition_train_batches, competition_train_batches.N, 1, verbose=2,\n",
    "                    validation_data=mnist_test_batches, nb_val_samples=100);"
   ]
  },
  {
   "cell_type": "code",
   "execution_count": 163,
   "metadata": {
    "collapsed": false
   },
   "outputs": [
    {
     "name": "stdout",
     "output_type": "stream",
     "text": [
      "(40, 10)\n"
     ]
    },
    {
     "data": {
      "image/png": "[encoded data removed]",
      "text/plain": [
       "<matplotlib.figure.Figure at 0x7f6120762a50>"
      ]
     },
     "metadata": {},
     "output_type": "display_data"
    }
   ],
   "source": [
    "# Let's inspect some predictions\n",
    "N=40\n",
    "Y_test = recognizer.predict(X_test[:N])\n",
    "print(Y_test.shape)\n",
    "Y_test_cat = np.argmax(Y_test, axis=1)\n",
    "utils.plot_array(X_test, Y_test_cat, limit=N)"
   ]
  },
  {
   "cell_type": "code",
   "execution_count": 164,
   "metadata": {
    "collapsed": false
   },
   "outputs": [
    {
     "name": "stdout",
     "output_type": "stream",
     "text": [
      "(42000, 784)\n",
      "((378000, 784), (378000,))\n"
     ]
    }
   ],
   "source": [
    "# Generate a new training set that has shifted samples.  Shift them all around\n",
    "from scipy.ndimage.interpolation import shift\n",
    "N = 10\n",
    "X_reshaped = X_train.reshape(X_train.shape[0],28,28)\n",
    "print(X_train.shape)\n",
    "X2_train = np.concatenate([\n",
    "    X_reshaped,\n",
    "    shift(X_reshaped, (0,-4,4)), #TL\n",
    "    shift(X_reshaped, (0,+4,+4)),#TR\n",
    "    shift(X_reshaped, (0,-4,-4)),#BL\n",
    "    shift(X_reshaped, (0,-4,+4)),#BR\n",
    "    shift(X_reshaped, (0,0,-4)), #L\n",
    "    shift(X_reshaped, (0,0,+4)), #R\n",
    "    shift(X_reshaped, (0,+4,0)), #T\n",
    "    shift(X_reshaped, (0,-4,0)), #B\n",
    "])\n",
    "Y2_train = np.concatenate([Y_train for i in range(0,9)])\n",
    "X2_train = X2_train.reshape(X2_train.shape[0], 784)\n",
    "print(X2_train.shape, Y2_train.shape)\n",
    "batches = utils.BatchIterator(X2_train, utils.to_categorical(Y2_train), batch_size=1000)"
   ]
  },
  {
   "cell_type": "code",
   "execution_count": 166,
   "metadata": {
    "collapsed": false
   },
   "outputs": [
    {
     "name": "stdout",
     "output_type": "stream",
     "text": [
      "Epoch 1/1\n",
      "350s - loss: 0.1526 - acc: 0.9455 - val_loss: 0.0639 - val_acc: 0.9793\n"
     ]
    }
   ],
   "source": [
    "# Train using shifted samples\n",
    "model.fit_generator(batches, batches.N, 1, verbose=2, validation_data=batches, nb_val_samples=1000);"
   ]
  },
  {
   "cell_type": "code",
   "execution_count": 169,
   "metadata": {
    "collapsed": false
   },
   "outputs": [
    {
     "name": "stdout",
     "output_type": "stream",
     "text": [
      "Test Loss: 0.15765, Accuracy: 0.93647\n"
     ]
    }
   ],
   "source": [
    "loss, acc = model.test_on_batch(mnist_test_batches.x, mnist_test_batches.y)\n",
    "print(\"Test Loss: %.5f, Accuracy: %.5f\" % (loss, acc))"
   ]
  },
  {
   "cell_type": "code",
   "execution_count": 167,
   "metadata": {
    "collapsed": false
   },
   "outputs": [],
   "source": [
    "# create submission for the competition\n",
    "Y_test = recognizer.predict(X_test)\n",
    "Y_test_cat = np.argmax(Y_test, axis=1)\n",
    "with open(\"submission.csv\", \"w\") as fp:\n",
    "    fp.write(\"ImageId,Label\\n\")\n",
    "    for i in range(0,len(Y_test_cat)):\n",
    "        fp.write(\"%s,%s\\n\" % (i+1, Y_test_cat[i]))\n",
    "    fp.close()"
   ]
  },
  {
   "cell_type": "code",
   "execution_count": 168,
   "metadata": {
    "collapsed": false
   },
   "outputs": [
    {
     "name": "stdout",
     "output_type": "stream",
     "text": [
      "Model saved: models/convolutional_recognizer_3.model.json\n",
      "Weights saved: models/convolutional_recognizer_3.weights.h5\n"
     ]
    }
   ],
   "source": [
    "utils.save_model(recognizer, \"models/convolutional_recognizer_3\")"
   ]
  },
  {
   "cell_type": "code",
   "execution_count": null,
   "metadata": {
    "collapsed": true
   },
   "outputs": [],
   "source": []
  }
 ],
 "metadata": {
  "kernelspec": {
   "display_name": "Python 2",
   "language": "python",
   "name": "python2"
  },
  "language_info": {
   "codemirror_mode": {
    "name": "ipython",
    "version": 2
   },
   "file_extension": ".py",
   "mimetype": "text/x-python",
   "name": "python",
   "nbconvert_exporter": "python",
   "pygments_lexer": "ipython2",
   "version": "2.7.13"
  }
 },
 "nbformat": 4,
 "nbformat_minor": 2
}
